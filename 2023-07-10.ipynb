{
 "cells": [
  {
   "cell_type": "code",
   "execution_count": 9,
   "id": "a4098627-b389-4871-8ef7-e0dd383b1ff2",
   "metadata": {},
   "outputs": [
    {
     "name": "stdout",
     "output_type": "stream",
     "text": [
      "['\\t\\t지점번호', '지점명', '일시', '평균기온(℃)', '평균최고기온(℃)', '최고기온(℃)', '\\t최고기온일자', '평균최저기온(℃)', '최저기온(℃)', '최저기온일자']\n"
     ]
    }
   ],
   "source": [
    "import csv\n",
    "f=open(\"temp2013.csv\")\n",
    "data=csv.reader(f)\n",
    "header=next(data)\n",
    "print(header)\n",
    "f.close()"
   ]
  },
  {
   "cell_type": "code",
   "execution_count": 11,
   "id": "33a8261f-f9ff-485c-a581-0a1b1da63fec",
   "metadata": {},
   "outputs": [
    {
     "name": "stdout",
     "output_type": "stream",
     "text": [
      "['\\t\\t지점번호', '지점명', '일시', '평균기온(℃)', '평균최고기온(℃)', '최고기온(℃)', '\\t최고기온일자', '평균최저기온(℃)', '최저기온(℃)', '최저기온일자']\n",
      "['\\t\\t108', '서울', 'Jan-13', '-3.4', '0.3', '11.5', '2013-01-31', '-6.6', '-16.4', '2013-01-03']\n"
     ]
    }
   ],
   "source": [
    "import csv\n",
    "f=open(\"temp2013.csv\")\n",
    "data=csv.reader(f)\n",
    "header1=next(data)\n",
    "header2=next(data)\n",
    "print(header1)\n",
    "print(header2)\n",
    "f.close()"
   ]
  },
  {
   "cell_type": "code",
   "execution_count": null,
   "id": "1cdedfcc-29c5-4bc7-8ef3-7b4f5a6da4ca",
   "metadata": {},
   "outputs": [],
   "source": [
    "import csv\n",
    "f=open(\"temp2013.csv\")\n",
    "data=csv.reader(f)\n",
    "header=next(data)\n",
    "\n",
    "for row in data:\n",
    "    print(row)\n",
    "\n",
    "f.close()"
   ]
  },
  {
   "cell_type": "code",
   "execution_count": 18,
   "id": "b52cfee3-1af3-4fb0-863f-0acb48e5deef",
   "metadata": {},
   "outputs": [
    {
     "name": "stdout",
     "output_type": "stream",
     "text": [
      "['\\t\\t108', '서울', 'Jan-13', '-3.4', '0.3', '11.5', '2013-01-31', '-6.6', -16.4, '2013-01-03']\n",
      "['\\t\\t108', '서울', 'Feb-13', '-1.2', '2.8', '13.9', '2013-02-28', '-4.9', -15.8, '2013-02-08']\n",
      "['\\t\\t108', '서울', 'Mar-13', '5.1', '10.8', '23.8', '2013-03-09', '0.7', -4.4, '2013-03-02']\n",
      "['\\t\\t108', '서울', 'Apr-13', '10', '15', '21.6', '2013-04-28', '5.7', 1.3, '2013-04-10']\n",
      "['\\t\\t108', '서울', 'May-13', '18.2', '23.6', '31.8', '2013-05-25', '13.7', 7.9, '2013-05-06']\n",
      "['\\t\\t108', '서울', 'Jun-13', '24.4', '29.2', '32.6', '2013-06-29', '20.5', 16.3, '2013-06-02']\n",
      "['\\t\\t108', '서울', 'Jul-13', '25.5', '28.3', '31.3', '2013-07-01', '23.4', 20.5, '2013-07-03']\n",
      "['\\t\\t108', '서울', 'Aug-13', '27.7', '31.1', '33.9', '2013-08-21', '24.8', 21.1, '2013-08-31']\n",
      "['\\t\\t108', '서울', 'Sep-13', '21.8', '25.9', '31.1', '2013-09-18', '18', 10.9, '2013-09-27']\n",
      "['\\t\\t108', '서울', 'Oct-13', '15.8', '21.2', '28.1', '2013-10-05', '10.9', 4.3, '2013-10-26']\n",
      "['\\t\\t108', '서울', 'Nov-13', '6.2', '10.7', '20.7', '2013-11-01', '2.1', -6.4, '2013-11-28']\n",
      "['\\t\\t108', '서울', 'Dec-13', '-0.2', '3.5', '11', '2013-12-07', '-3.5', -9.8, '2013-12-28']\n",
      "['\\t\\t108', '서울', 'Jan-14', '-0.7', '3.5', '8.2', '2014-01-29', '-4.9', -10.5, '2014-01-13']\n",
      "['\\t\\t108', '서울', 'Feb-14', '1.9', '6.6', '16.4', '2014-02-26', '-1.8', -10.5, '2014-02-04']\n",
      "['\\t\\t108', '서울', 'Mar-14', '7.9', '13.1', '23.8', '2014-03-28', '3.5', -4.6, '2014-03-07']\n",
      "['\\t\\t108', '서울', 'Apr-14', '14', '19.6', '26.2', '2014-04-24', '9.4', 2.3, '2014-04-06']\n",
      "['\\t\\t108', '서울', 'May-14', '18.9', '25.3', '33.3', '2014-05-31', '13.8', 6.8, '2014-05-05']\n",
      "['\\t\\t108', '서울', 'Jun-14', '23.1', '27.8', '31.1', '2014-06-06', '19.7', 17.3, '2014-06-12']\n",
      "['\\t\\t108', '서울', 'Jul-14', '26.1', '30.6', '34.4', '2014-07-31', '22.9', 19.1, '2014-07-24']\n",
      "['\\t\\t108', '서울', 'Aug-14', '25.2', '29', '35.8', '2014-08-02', '22.1', 18.3, '2014-08-11']\n",
      "['\\t\\t108', '서울', 'Sep-14', '22.1', '27', '31.3', '2014-09-07', '18', 14.9, '2014-09-19']\n",
      "['\\t\\t108', '서울', 'Oct-14', '15.6', '21.4', '29', '2014-10-12', '10.7', 2.7, '2014-10-28']\n",
      "['\\t\\t108', '서울', 'Nov-14', '9', '13.8', '22.9', '2014-11-01', '4.9', -3.1, '2014-11-13']\n",
      "['\\t\\t108', '서울', 'Dec-14', '-2.9', '1.5', '7.9', '2014-12-01', '-6.7', -13.2, '2014-12-18']\n",
      "['\\t\\t108', '서울', 'Jan-15', '-0.9', '3.6', '9', '2015-01-15', '-4.8', -9.8, '2015-01-01']\n",
      "['\\t\\t108', '서울', 'Feb-15', '1', '6', '13', '2015-02-15', '-2.9', -13.0, '2015-02-09']\n",
      "['\\t\\t108', '서울', 'Mar-15', '6.3', '12.4', '21.9', '2015-03-20', '1', -6.9, '2015-03-10']\n",
      "['\\t\\t108', '서울', 'Apr-15', '13.3', '18.8', '28.3', '2015-04-30', '8.4', 3.5, '2015-04-08']\n",
      "['\\t\\t108', '서울', 'May-15', '18.9', '24.9', '32.2', '2015-05-28', '13.6', 8.3, '2015-05-05']\n",
      "['\\t\\t108', '서울', 'Jun-15', '23.6', '29.5', '34.9', '2015-06-10', '18.9', 15.6, '2015-06-21']\n",
      "['\\t\\t108', '서울', 'Jul-15', '25.8', '30', '36', '2015-07-11', '22.6', 18.2, '2015-07-04']\n",
      "['\\t\\t108', '서울', 'Aug-15', '26.3', '30.8', '34.4', '2015-08-07', '22.8', 18.9, '2015-08-26']\n",
      "['\\t\\t108', '서울', 'Sep-15', '22.4', '28.1', '31', '2015-09-22', '17.5', 14.2, '2015-09-27']\n",
      "['\\t\\t108', '서울', 'Oct-15', '15.5', '21.2', '26.6', '2015-10-17', '10.8', 1.1, '2015-10-31']\n",
      "['\\t\\t108', '서울', 'Nov-15', '8.9', '12.7', '21', '2015-11-12', '5.9', -7.3, '2015-11-27']\n",
      "['\\t\\t108', '서울', 'Dec-15', '1.6', '6', '12.2', '2015-12-13', '-2.1', -9.5, '2015-12-28']\n",
      "['\\t\\t108', '서울', 'Jan-16', '-3.2', '1.1', '9.5', '2016-01-02', '-6.8', -18.0, '2016-01-24']\n",
      "['\\t\\t108', '서울', 'Feb-16', '0.2', '5.1', '14.4', '2016-02-13', '-4.1', -10.0, '2016-02-15']\n",
      "['\\t\\t108', '서울', 'Mar-16', '7', '12.6', '21.4', '2016-03-31', '2.4', -7.5, '2016-03-01']\n",
      "['\\t\\t108', '서울', 'Apr-16', '14.1', '20.3', '29.6', '2016-04-26', '9.1', 5.1, '2016-04-04']\n",
      "['\\t\\t108', '서울', 'May-16', '19.6', '25.7', '31.9', '2016-05-19', '14.1', 8.9, '2016-05-03']\n",
      "['\\t\\t108', '서울', 'Jun-16', '23.6', '28.7', '32.2', '2016-06-05', '19.5', 17.1, '2016-06-01']\n",
      "['\\t\\t108', '서울', 'Jul-16', '26.2', '29.8', '34.1', '2016-07-22', '23.3', 19.8, '2016-07-16']\n",
      "['\\t\\t108', '서울', 'Aug-16', '28', '32.6', '36.6', '2016-08-21', '24.5', 16.1, '2016-08-31']\n",
      "['\\t\\t108', '서울', 'Sep-16', '23.1', '27.9', '31.1', '2016-09-05', '19.3', 14.3, '2016-09-21']\n",
      "['\\t\\t108', '서울', 'Oct-16', '16.1', '21.3', '29', '2016-10-04', '11.6', 0.7, '2016-10-31']\n",
      "['\\t\\t108', '서울', 'Nov-16', '6.8', '11.6', '18.6', '2016-11-19', '2.8', -6.2, '2016-11-24']\n",
      "['\\t\\t108', '서울', 'Dec-16', '1.2', '5.8', '13.6', '2016-12-20', '-2.7', -9.8, '2016-12-16']\n",
      "['\\t\\t108', '서울', 'Jan-17', '-1.8', '2.9', '11.4', '2017-01-06', '-5.8', -12.6, '2017-01-23']\n",
      "['\\t\\t108', '서울', 'Feb-17', '-0.2', '4.8', '12.3', '2017-02-28', '-4.7', -9.3, '2017-02-10']\n",
      "['\\t\\t108', '서울', 'Mar-17', '6.3', '12.3', '18.9', '2017-03-19', '1.7', -5.3, '2017-03-08']\n",
      "['\\t\\t108', '서울', 'Apr-17', '13.9', '20', '27.8', '2017-04-30', '9.1', 3.1, '2017-04-02']\n",
      "['\\t\\t108', '서울', 'May-17', '19.5', '25.4', '30.3', '2017-05-30', '14.4', 10.0, '2017-05-06']\n",
      "['\\t\\t108', '서울', 'Jun-17', '23.3', '28.8', '34.1', '2017-06-23', '18.7', 14.5, '2017-06-06']\n",
      "['\\t\\t108', '서울', 'Jul-17', '26.9', '30.4', '35.4', '2017-07-25', '24.3', 21.9, '2017-07-03']\n",
      "['\\t\\t108', '서울', 'Aug-17', '25.9', '29.7', '35.3', '2017-08-04', '22.9', 16.1, '2017-08-30']\n",
      "['\\t\\t108', '서울', 'Sep-17', '22.1', '27.4', '31.4', '2017-09-26', '17.5', 11.2, '2017-09-29']\n",
      "['\\t\\t108', '서울', 'Oct-17', '16.4', '22.5', '29.4', '2017-10-02', '11.6', 2.5, '2017-10-30']\n",
      "['\\t\\t108', '서울', 'Nov-17', '5.6', '10.5', '18.4', '2017-11-07', '1.3', -6.6, '2017-11-19']\n",
      "['\\t\\t108', '서울', 'Dec-17', '-1.9', '2.2', '8.7', '2017-12-23', '-5.7', -12.3, '2017-12-12']\n",
      "['\\t\\t108', '서울', 'Jan-18', '-4', '0.1', '8.7', '2018-01-17', '-7.3', -17.8, '2018-01-26']\n",
      "['\\t\\t108', '서울', 'Feb-18', '-1.6', '3.3', '10.4', '2018-02-26', '-5.9', -13.4, '2018-02-07']\n",
      "['\\t\\t108', '서울', 'Mar-18', '8.1', '13.6', '22.1', '2018-03-14', '3.8', -6.7, '2018-03-02']\n",
      "['\\t\\t108', '서울', 'Apr-18', '13', '18.5', '26.3', '2018-04-20', '8.1', 0.1, '2018-04-09']\n",
      "['\\t\\t108', '서울', 'May-18', '18.2', '23.3', '29.6', '2018-05-26', '13.4', 6.9, '2018-05-03']\n",
      "['\\t\\t108', '서울', 'Jun-18', '23.1', '28.4', '32.9', '2018-06-25', '18.9', 16.3, '2018-06-16']\n",
      "['\\t\\t108', '서울', 'Jul-18', '27.8', '32.1', '38.3', '2018-07-31', '24.2', 17.7, '2018-07-08']\n",
      "['\\t\\t108', '서울', 'Aug-18', '28.8', '33.3', '39.6', '2018-08-01', '25.2', 20.2, '2018-08-27']\n",
      "['\\t\\t108', '서울', 'Sep-18', '21.5', '26', '30.9', '2018-09-01', '17.6', 10.8, '2018-09-25']\n",
      "['\\t\\t108', '서울', 'Oct-18', '13.1', '18.6', '25.6', '2018-10-04', '8.5', 0.7, '2018-10-30']\n",
      "['\\t\\t108', '서울', 'Nov-18', '7.8', '13.2', '19.4', '2018-11-04', '3.6', -3.1, '2018-11-23']\n",
      "['\\t\\t108', '서울', 'Dec-18', '-0.6', '4.1', '13.5', '2018-12-03', '-4.7', -14.4, '2018-12-28']\n",
      "['\\t\\t108', '서울', 'Jan-19', '-0.9', '4.1', '8.5', '2019-01-19', '-5.1', -10.1, '2019-01-16']\n",
      "['\\t\\t108', '서울', 'Feb-19', '1', '6', '14.5', '2019-02-23', '-3.2', -10.2, '2019-02-08']\n",
      "['\\t\\t108', '서울', 'Mar-19', '7.1', '12.4', '17.6', '2019-03-26', '2.7', -1.7, '2019-03-14']\n",
      "['\\t\\t108', '서울', 'Apr-19', '12.1', '17.6', '28.2', '2019-04-22', '7.2', 0.3, '2019-04-01']\n",
      "['\\t\\t108', '서울', 'May-19', '19.4', '25.6', '33.4', '2019-05-24', '13.7', 8.4, '2019-05-07']\n",
      "['\\t\\t108', '서울', 'Jun-19', '22.5', '27.7', '32.8', '2019-06-25', '18.1', 14.1, '2019-06-02']\n",
      "['\\t\\t108', '서울', 'Jul-19', '25.9', '30.1', '36.1', '2019-07-06', '22.7', 19.3, '2019-07-10']\n",
      "['\\t\\t108', '서울', 'Aug-19', '27.2', '31.6', '36.8', '2019-08-06', '23.6', 18.5, '2019-08-31']\n",
      "['\\t\\t108', '서울', 'Sep-19', '22.6', '27.1', '30.5', '2019-09-16', '19', 13.6, '2019-09-19']\n",
      "['\\t\\t108', '서울', 'Oct-19', '16.4', '21.8', '28.2', '2019-10-01', '11.8', 4.7, '2019-10-27']\n",
      "['\\t\\t108', '서울', 'Nov-19', '7.6', '12.9', '22.1', '2019-11-03', '3.1', -4.6, '2019-11-20']\n",
      "['\\t\\t108', '서울', 'Dec-19', '1.4', '5.3', '12.9', '2019-12-16', '-2.6', -10.9, '2019-12-31']\n",
      "['\\t\\t108', '서울', 'Jan-20', '1.6', '5.9', '11.9', '2020-01-26', '-1.7', -6.5, '2020-01-01']\n",
      "['\\t\\t108', '서울', 'Feb-20', '2.5', '7.2', '15.6', '2020-02-15', '-1.3', -11.8, '2020-02-06']\n",
      "['\\t\\t108', '서울', 'Mar-20', '7.7', '13.3', '20.6', '2020-03-26', '2.6', -2.8, '2020-03-05']\n",
      "['\\t\\t108', '서울', 'Apr-20', '11.1', '16.6', '23.8', '2020-04-16', '6.3', 1.9, '2020-04-05']\n",
      "['\\t\\t108', '서울', 'May-20', '18', '23.3', '30', '2020-05-30', '13.7', 9.2, '2020-05-20']\n",
      "['\\t\\t108', '서울', 'Jun-20', '23.9', '29', '35.4', '2020-06-22', '19.9', 14.8, '2020-06-02']\n",
      "['\\t\\t108', '서울', 'Jul-20', '24.1', '28', '32.9', '2020-07-09', '21.1', 17.2, '2020-07-14']\n",
      "['\\t\\t108', '서울', 'Aug-20', '26.5', '29.3', '34.5', '2020-08-26', '24.4', 21.5, '2020-08-23']\n",
      "['\\t\\t108', '서울', 'Sep-20', '21.4', '25.6', '29.5', '2020-09-01', '18', 13.6, '2020-09-21']\n",
      "['\\t\\t108', '서울', 'Oct-20', '14.3', '19.5', '23.6', '2020-10-01', '9.6', 3.2, '2020-10-24']\n",
      "['\\t\\t108', '서울', 'Nov-20', '8', '12.6', '20', '2020-11-17', '4', -3.6, '2020-11-30']\n",
      "['\\t\\t108', '서울', 'Dec-20', '-0.3', '3.9', '11.4', '2020-12-28', '-4.2', -12.9, '2020-12-31']\n",
      "['\\t\\t108', '서울', 'Jan-21', '-2.4', '2.2', '13.9', '2021-01-25', '-6.8', -18.6, '2021-01-08']\n",
      "['\\t\\t108', '서울', 'Feb-21', '2.7', '7.9', '17.4', '2021-02-21', '-2.2', -10.6, '2021-02-18']\n",
      "['\\t\\t108', '서울', 'Mar-21', '9', '14.8', '22.9', '2021-03-31', '4.3', -1.2, '2021-03-03']\n",
      "['\\t\\t108', '서울', 'Apr-21', '14.2', '19.5', '28.2', '2021-04-21', '9.5', 3.1, '2021-04-14']\n",
      "['\\t\\t108', '서울', 'May-21', '17.1', '21.9', '30.8', '2021-05-14', '12.8', 7.3, '2021-05-02']\n",
      "['\\t\\t108', '서울', 'Jun-21', '22.8', '27.6', '31.6', '2021-06-09', '18.9', 13.3, '2021-06-04']\n",
      "['\\t\\t108', '서울', 'Jul-21', '28.1', '32.2', '36.5', '2021-07-24', '24.6', 19.6, '2021-07-03']\n",
      "['\\t\\t108', '서울', 'Aug-21', '25.9', '29.7', '33.7', '2021-08-05', '22.8', 18.1, '2021-08-31']\n",
      "['\\t\\t108', '서울', 'Sep-21', '22.6', '26.9', '30.3', '2021-09-13', '18.8', 16.0, '2021-09-30']\n",
      "['\\t\\t108', '서울', 'Oct-21', '15.6', '20.5', '28.8', '2021-10-03', '11.6', 1.3, '2021-10-17']\n",
      "['\\t\\t108', '서울', 'Nov-21', '8.2', '13.1', '21.3', '2021-11-07', '4', -3.7, '2021-11-23']\n",
      "['\\t\\t108', '서울', 'Dec-21', '0.6', '5.1', '13.3', '2021-12-08', '-3.5', -15.5, '2021-12-26']\n",
      "['\\t\\t108', '서울', 'Jan-22', '-2.2', '2.6', '8.4', '2022-01-24', '-6.2', -11.3, '2022-01-12']\n",
      "['\\t\\t108', '서울', 'Feb-22', '-1.1', '3.8', '11.5', '2022-02-28', '-5.3', -10.7, '2022-02-17']\n",
      "['\\t\\t108', '서울', 'Mar-22', '7.7', '12.7', '19.5', '2022-03-12', '3.2', -3.0, '2022-03-06']\n",
      "['\\t\\t108', '서울', 'Apr-22', '14.8', '20.6', '28.7', '2022-04-26', '10', 3.5, '2022-04-03']\n",
      "['\\t\\t108', '서울', 'May-22', '19.1', '25', '30.7', '2022-05-23', '13.9', 7.9, '2022-05-01']\n",
      "['\\t\\t108', '서울', 'Jun-22', '23.3', '27.5', '32.7', '2022-06-11', '19.8', 14.9, '2022-06-15']\n",
      "['\\t\\t108', '서울', 'Jul-22', '27.3', '31', '36.1', '2022-07-30', '24.2', 20.8, '2022-07-21']\n",
      "['\\t\\t108', '서울', 'Aug-22', '25.7', '28.9', '32.9', '2022-08-04', '23.1', 16.1, '2022-08-28']\n",
      "['\\t\\t108', '서울', 'Sep-22', '22.4', '27.2', '32.5', '2022-09-18', '18.2', 12.3, '2022-09-24']\n",
      "['\\t\\t108', '서울', 'Oct-22', '14.6', '19.7', '27.6', '2022-10-01', '10.3', 4.4, '2022-10-19']\n",
      "['\\t\\t108', '서울', 'Nov-22', '10', '15.4', '22.1', '2022-11-11', '5.6', -8.1, '2022-11-30']\n",
      "['\\t\\t108', '서울', 'Dec-22', '-2.8', '1.7', '10.2', '2022-12-09', '-6.6', -13.7, '2022-12-23']\n",
      "['\\t\\t108', '서울', 'Jan-23', '-1.5', '3.2', '12.5', '2023-01-12', '-5.7', -17.3, '2023-01-25']\n",
      "['\\t\\t108', '서울', 'Feb-23', '2.3', '7.3', '12.4', '2023-02-27', '-1.9', -5.3, '2023-02-21']\n",
      "['\\t\\t108', '서울', 'Mar-23', '9.8', '16.2', '25.1', '2023-03-22', '4.2', -1.9, '2023-03-13']\n",
      "['\\t\\t108', '서울', 'Apr-23', '13.8', '19', '28.4', '2023-04-19', '8.8', 3.1, '2023-04-08']\n",
      "['\\t\\t108', '서울', 'May-23', '19.5', '25', '31.2', '2023-05-16', '14.6', 7.9, '2023-05-08']\n",
      "['\\t\\t108', '서울', 'Jun-23', '23.4', '27.9', '34', '2023-06-19', '19.7', 16.6, '2023-06-03']\n",
      "['\\t\\t108', '서울', 'Jul-23', '', '', '34.9', '2023-07-03', '', 22.1, '2023-07-05']\n"
     ]
    },
    {
     "ename": "ValueError",
     "evalue": "could not convert string to float: ''",
     "output_type": "error",
     "traceback": [
      "\u001b[1;31m---------------------------------------------------------------------------\u001b[0m",
      "\u001b[1;31mValueError\u001b[0m                                Traceback (most recent call last)",
      "\u001b[1;32m~\\AppData\\Local\\Temp/ipykernel_10408/3775680894.py\u001b[0m in \u001b[0;36m<module>\u001b[1;34m\u001b[0m\n\u001b[0;32m      5\u001b[0m \u001b[1;33m\u001b[0m\u001b[0m\n\u001b[0;32m      6\u001b[0m \u001b[1;32mfor\u001b[0m \u001b[0mrow\u001b[0m \u001b[1;32min\u001b[0m \u001b[0mdata\u001b[0m\u001b[1;33m:\u001b[0m\u001b[1;33m\u001b[0m\u001b[1;33m\u001b[0m\u001b[0m\n\u001b[1;32m----> 7\u001b[1;33m     \u001b[0mrow\u001b[0m\u001b[1;33m[\u001b[0m\u001b[1;33m-\u001b[0m\u001b[1;36m2\u001b[0m\u001b[1;33m]\u001b[0m\u001b[1;33m=\u001b[0m\u001b[0mfloat\u001b[0m\u001b[1;33m(\u001b[0m\u001b[0mrow\u001b[0m\u001b[1;33m[\u001b[0m\u001b[1;33m-\u001b[0m\u001b[1;36m2\u001b[0m\u001b[1;33m]\u001b[0m\u001b[1;33m)\u001b[0m\u001b[1;33m\u001b[0m\u001b[1;33m\u001b[0m\u001b[0m\n\u001b[0m\u001b[0;32m      8\u001b[0m     \u001b[0mprint\u001b[0m\u001b[1;33m(\u001b[0m\u001b[0mrow\u001b[0m\u001b[1;33m)\u001b[0m\u001b[1;33m\u001b[0m\u001b[1;33m\u001b[0m\u001b[0m\n\u001b[0;32m      9\u001b[0m \u001b[0mf\u001b[0m\u001b[1;33m.\u001b[0m\u001b[0mclose\u001b[0m\u001b[1;33m(\u001b[0m\u001b[1;33m)\u001b[0m\u001b[1;33m\u001b[0m\u001b[1;33m\u001b[0m\u001b[0m\n",
      "\u001b[1;31mValueError\u001b[0m: could not convert string to float: ''"
     ]
    }
   ],
   "source": [
    "import csv\n",
    "f=open(\"temp2013.csv\")\n",
    "data=csv.reader(f)\n",
    "header=next(data)\n",
    "\n",
    "for row in data:\n",
    "    row[-2]=float(row[-2])\n",
    "    print(row)\n",
    "f.close()"
   ]
  },
  {
   "cell_type": "code",
   "execution_count": 30,
   "id": "d684a9d3-8708-4132-a19a-ce2c0fd67508",
   "metadata": {},
   "outputs": [
    {
     "data": {
      "image/png": "[encoded data removed]",
      "text/plain": [
       "<Figure size 432x288 with 1 Axes>"
      ]
     },
     "metadata": {
      "needs_background": "light"
     },
     "output_type": "display_data"
    }
   ],
   "source": [
    "import matplotlib.pyplot as plt\n",
    "plt.title(\"legend\")\n",
    "\n",
    "plt.plot([10,20,30,40], label=\"asc\")\n",
    "plt.plot([40,30,20,10], label=\"desc\")\n",
    "\n",
    "plt.legend(loc=\"center left\")\n",
    "plt.show()"
   ]
  },
  {
   "cell_type": "code",
   "execution_count": 37,
   "id": "ac0bc686-ce27-473a-84e9-91da62e097e0",
   "metadata": {},
   "outputs": [
    {
     "data": {
      "image/png": "[encoded data removed]",
      "text/plain": [
       "<Figure size 432x288 with 1 Axes>"
      ]
     },
     "metadata": {
      "needs_background": "light"
     },
     "output_type": "display_data"
    }
   ],
   "source": [
    "import matplotlib.pyplot as plt\n",
    "plt.title(\"legend\")\n",
    "\n",
    "plt.plot([10,20,30,40], label=\"asc\")\n",
    "plt.plot([40,30,20,10], label=\"desc\")\n",
    "plt.legend()\n",
    "\n",
    "plt.grid(color=\"violet\", dashes=(4,6))\n",
    "plt.show()"
   ]
  },
  {
   "cell_type": "code",
   "execution_count": 40,
   "id": "2eb48cfa-8fbe-447e-beaf-0d30e2b7135a",
   "metadata": {},
   "outputs": [
    {
     "data": {
      "image/png": "[encoded data removed]",
      "text/plain": [
       "<Figure size 432x288 with 1 Axes>"
      ]
     },
     "metadata": {
      "needs_background": "light"
     },
     "output_type": "display_data"
    }
   ],
   "source": [
    "import matplotlib.pyplot as plt\n",
    "plt.title(\"legend\")\n",
    "\n",
    "plt.plot([10,20,30,40],\"r.\", label=\"circle\")\n",
    "plt.plot([40,30,20,10],\"g^\", label=\"triangle\")\n",
    "plt.legend()\n",
    "\n",
    "plt.grid(color=\"violet\", dashes=(4,6))\n",
    "plt.show()"
   ]
  },
  {
   "cell_type": "code",
   "execution_count": null,
   "id": "ec3bbb98-2064-497f-8da8-6d501417e46f",
   "metadata": {},
   "outputs": [],
   "source": []
  },
  {
   "cell_type": "code",
   "execution_count": null,
   "id": "aca97d83-f84e-482b-b7a5-29ccf9e697ba",
   "metadata": {},
   "outputs": [],
   "source": []
  }
 ],
 "metadata": {
  "kernelspec": {
   "display_name": "Python 3 (ipykernel)",
   "language": "python",
   "name": "python3"
  },
  "language_info": {
   "codemirror_mode": {
    "name": "ipython",
    "version": 3
   },
   "file_extension": ".py",
   "mimetype": "text/x-python",
   "name": "python",
   "nbconvert_exporter": "python",
   "pygments_lexer": "ipython3",
   "version": "3.9.7"
  }
 },
 "nbformat": 4,
 "nbformat_minor": 5
}
